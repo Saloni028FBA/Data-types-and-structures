{
  "nbformat": 4,
  "nbformat_minor": 0,
  "metadata": {
    "colab": {
      "provenance": []
    },
    "kernelspec": {
      "name": "python3",
      "display_name": "Python 3"
    },
    "language_info": {
      "name": "python"
    }
  },
  "cells": [
    {
      "cell_type": "markdown",
      "source": [
        "#### Data types and structures\n",
        "\n",
        "\n",
        "## Theory Part"
      ],
      "metadata": {
        "id": "VeWZEd-ESMXM"
      }
    },
    {
      "cell_type": "markdown",
      "source": [
        "1. What are data structures, and why are they important?\n",
        "   - Data structures are ways of organizing, storing, and managing data in a computer so that it can be accessed and modified efficiently.\n",
        "   - They provide a means to manage large amounts of data for various uses, such as databases, operating systems, and software applications.\n",
        "   - Python allows one to use built-in data structures and also lets  create custom ones.\n",
        "   - Built-in data structures in python:\n",
        "      \n",
        "       1. Lists -> Ordered, mutable (changeable) sequences of element\n",
        "       2. Tuples -> Ordered, immutable sequences of elements.\n",
        "       3. Dictionaries -> Unordered collections of key-value pairs.\n",
        "       4. Sets -> Unordered collections of unique elements\n",
        "   - Why are data structures are important in pyhton:\n",
        "\n",
        "       1. Efficient Data Handling - Choosing the right data structure can significantly impact the performance of Python programs,    (like set for fast lookups or dict for key-based access) makes code much faster.\n",
        "\n",
        "       2. Automatic memory management - Python’s high-level nature handles memory management automatically, allowing developers to use data structures efficiently without dealing with low-level memory details.\n",
        "\n",
        "       3. Code readibility - Choosing the right data structures helps make Python code cleaner, more structured, and easier to read."
      ],
      "metadata": {
        "id": "hDzmbP8ySed_"
      }
    },
    {
      "cell_type": "markdown",
      "source": [
        "2. Explain the difference between mutable and immutable data types with examples.\n",
        "   - The main difference between mutable and immutable data types lies in whether their contents can be changed after they are created:\n",
        "  \n",
        "      A. Mutable data type:\n",
        "      \n",
        "        1. Mutability determines whether you can change an object's value in place.\n",
        "        2. Mutable are data types whose values can be modified after they are created.\n",
        "        3. Operations on these data types can alter their contents without changing their identity.\n",
        "        4. Examples of mutable data types are:\n",
        "\n",
        "              a) Lists -> Lists are ordered collections of items, and can add, remove, or modify elements within a list. The list  is modified by appending a new element\n",
        "\n",
        "              b) Dictionaries -> Dictionaries store data in key-value pairs, and you can add, remove, or modify these pairs.\n",
        "\n",
        "              c) Sets -> Sets are unordered collections of unique elements, and you can add or remove elements.\n",
        "\n",
        "    B. Immutable data type:\n",
        "        \n",
        "        1. Immutable are data types whose values cannot be modified after they are created.\n",
        "        2. Any operation that seems to modify the object actually creates a new object instead.\n",
        "        3. Immutable objects provide a level of data saftey, that mutable objects do not.\n",
        "        4. Examples of Immutable data types are:\n",
        "\n",
        "              a) Strings -> Strings are sequences of characters, and changing character within the string is not allowed.\n",
        "              b) Tuples -> Tuples are ordered collections of items, similar to lists, but they are immutable.\n",
        "              c) Integers, Floats, Booleans -> These basic numeric types are also immutable.\n",
        "\n",
        "\n",
        "\n",
        "        \n",
        "        "
      ],
      "metadata": {
        "id": "zDg1zUIln-Sx"
      }
    },
    {
      "cell_type": "markdown",
      "source": [
        "3. What are the main differences between lists and tuples in Python?\n",
        "   - In Python, lists and tuples are both fundamental sequence data types but the main differences between lists and tuples in Python lie in their mutability, syntax, and typical use cases.\n",
        "    \n",
        "     A. Lists:\n",
        "     \n",
        "       1) Mutability: Lists can be modified after creation.\n",
        "         \n",
        "       2) Syntax: Lists are defined using square brackets[].\n",
        "         \n",
        "       3) Performance: Lists are slightly slower due to mutability.\n",
        "         \n",
        "       4) Application of methods: List can handle many built-in methods like append for addition,remove, etc.\n",
        "         \n",
        "       5) Memory consumption: List requires more memory due the nature of mutability.\n",
        "      \n",
        "       6) Usage: Lists are suitable for collections that may change,updated, sorted, or modified over time.\n",
        "       \n",
        "     B. Tuples:\n",
        "     \n",
        "      1) Mutability: Tuples cannot be modified after creation.\n",
        "      \n",
        "      2) Syntax: Tuples are defined using parentheses().\n",
        "\n",
        "      3) Performance: Tuples are faster compared to lists due to immutable.\n",
        "\n",
        "      4) Application of methods: Tuples are can handle limited methods like count,index,etc.\n",
        "\n",
        "      5) Memory consumption: Tuples require less memory due the nature of mutability.\n",
        "\n",
        "      6) Usage: Suitable for fixed collections where elements should not change and stay constant (e.g., coordinates, fixed config settings)."
      ],
      "metadata": {
        "id": "PvPFlu_7vNfJ"
      }
    },
    {
      "cell_type": "markdown",
      "source": [
        "4. Describe how dictionaries store data.\n",
        "  - A dictionary in Python is a collection of key-value pairs and is stored as key-value pairs, where each key is unique and maps to a specific value in a highly efficient and organized way.\n",
        "  - Here's how dictionaries store data: Python dictionaries use a technique called \"hashing\" to store and retrieve data efficiently.\n",
        "  \n",
        "     1) Hashing Function - Internally, Python uses a hash table to manage dictionaries. When you add a key-value pair to a dictionary, the key is passed through a \"hashing function.\n",
        "\n",
        "     2) Storage -  Each key is passed through a hash function, which generates a unique hash value (integer). This hash value determines where the value is stored in memory.\n",
        "\n",
        "     3) Retrieval - When you want to retrieve a value, the key is hashed again, and the dictionary can quickly locate the value's memory address using the hash code.  "
      ],
      "metadata": {
        "id": "YtoPdj-N2ZPo"
      }
    },
    {
      "cell_type": "code",
      "source": [
        "# Example of Dictionaries storing data:(Ques-04)\n",
        "\n",
        "student = {\n",
        "    \"name\": \"Saloni\",\n",
        "    \"age\": 24,\n",
        "    \"major\": \"Business Analyst\"}\n",
        "\n",
        "#\"name\", \"age\", and \"major\" are keys\n",
        "#\"Saloni\", 24, and \"Business Analyst\" are the values"
      ],
      "metadata": {
        "id": "DzJmeTxl3i5O"
      },
      "execution_count": null,
      "outputs": []
    },
    {
      "cell_type": "markdown",
      "source": [
        "5. Why might you use a set instead of a list in Python?\n",
        "   - One might choose a set instead of a list in Python for the following reasons:\n",
        "\n",
        "     1. Uniqueness of elements - Sets automatically eliminate duplicate elements. If you want to ensure that a collection contains only distinct values, a set is the ideal choice.\n",
        "     Example: Removing duplicate entries from a list of user IDs.\n",
        "\n",
        "     2. Efficient membership testing - Sets are optimized for checking whether an element exists (using hashing), making membership tests significantly faster compared to lists.\n",
        "     Example: Checking if a user ID is in a large database of registered users.\n",
        "\n",
        "     3. Sets operation - Sets support mathematical operations like union, intersection, difference, symmetric difference and comparing and combining collections of data, which can be helpful when working with multiple collections.\n",
        "     Example: Finding the common elements between two groups of users.\n",
        "\n",
        "     4. Avoiding unintended duplication - Tuples are more useful than lists, when creating a collection where duplicates would cause errors in your code, or in the logic of your program and keep unique items in your collection."
      ],
      "metadata": {
        "id": "47EGKPGU52kQ"
      }
    },
    {
      "cell_type": "markdown",
      "source": [
        "6. What is a string in Python, and how is it different from a list?\n",
        "   - In Python, a string is a sequence of characters (letters, numbers, symbols) enclosed within single quotes () or double quotes (), like 'hello' or \"wprld\"\n",
        "   - Strings are used to represent text, and they are immutable, meaning you cannot modify a string after you've created it.\n",
        "   - A list, on the other hand, is a sequence of items enclosed within square brackets [], like [1,2,3] or [\"Apple\", \"Banana\", \"Guava\"] .\n",
        "   - Lists can contain items of any data type (numbers, strings, etc.), and they are mutable, allowing you to modify, add, or remove elements.\n",
        "   - Key difference:\n",
        "   \n",
        "    A. Strings:\n",
        "     \n",
        "      1. Types of data - Strings are sequence of characters (text).\n",
        "      2. Mutability - Strings are immutable (cannot be changed).\n",
        "      3. Encloses - Strings are enclosed by single/double quotes ( ' ' or \" \" )\n",
        "      4. Element acess - Elements of strings are individual characters via index or indexing.\n",
        "      \n",
        "    B. Lists:\n",
        "\n",
        "       1. Types of data - Items are sequence of any data type, text or numeric.\n",
        "       2. Mutability - Lists are mutable (can be changed).\n",
        "       3. Encloses - Lists are enclosed by square brackets [].\n",
        "       4. Element acess - Elements of lists are individual items via index or indexing."
      ],
      "metadata": {
        "id": "v3-XCb9v9FoW"
      }
    },
    {
      "cell_type": "markdown",
      "source": [
        "7. How do tuples ensure data integrity in Python?\n",
        "  - Tuples in Python contribute to data integrity primarily because they are immutable. Once a tuple is created, its elements cannot be modified (no additions, removals, or alterations).\n",
        "  - Here are some ways tuples ensure data integrity:\n",
        "\n",
        "    1. Prevention of Accidental Changes -> Since tuples cannot be modified, you can prevent unintended changes to their content, which can be especially useful when sharing data across different parts of a program.\n",
        "\n",
        "    2. Reliability -> The immutability ensures that the data remains consistent and secure throughout its lifecycle in your program, making tuples ideal for storing values that should not change.such as configuration settings, database records, or coordinates.\n",
        "\n",
        "    3. Hashability -> Tuples can be used as keys in dictionaries and elements in sets because they are hashable (if all their elements are also hashable). This property allows them to store immutable and reliable data in data structures that require consistent hash values.\n"
      ],
      "metadata": {
        "id": "JE9GrUcbwf1r"
      }
    },
    {
      "cell_type": "markdown",
      "source": [
        "8. What is a hash table, and how does it relate to dictionaries in Python?\n",
        "   - A hash table is a data structure that stores key-value pairs and uses a hashing function to map keys to specific locations in memory (called buckets).\n",
        "   - This allows for extremely efficient data retrieval, as the key's hash value determines where the corresponding value is stored.\n",
        "   - Key Features of Hash Tables:\n",
        "\n",
        "      1. Fast Access -> Hash tables allow for average-case O(1) time complexity for lookups, insertions, and deletions.\n",
        "      2. Collisions -> When two keys hash to the same bucket, a mechanism like chaining (linked lists) or open addressing is used to resolve the conflict.\n",
        "      3. Dynamic Resizing -> Many implementations resize the hash table as it fills up to maintain performance.\n",
        "  - Relation to Python Dictionaries:\n",
        "\n",
        "       1. Key-Value Pairs -> Like a hash table, a dictionary stores items as key-value pairs.\n",
        "       2. Hashing -> Dictionary keys are hashed using Python's internal hash function. This is why keys must be immutable (e.g., strings, tuples) and hashable.\n",
        "       3. Fast Operations -> The underlying hash table structure enables dictionaries to provide fast and efficient data retrieval, with average-case O(1) time complexity lookups, insertions, and deletions.    "
      ],
      "metadata": {
        "id": "qT28-ewjy2cc"
      }
    },
    {
      "cell_type": "markdown",
      "source": [
        "9. Can lists contain different data types in Python?\n",
        "  - Yes, in Python, lists can contain elements of different data types. This is one of the key features that make Python lists flexible and versatile. A single list can hold integers, floats, strings, booleans, other lists, or even custom objects, all within the same structure.\n",
        "  - This flexibility of lists which allows heterogenous data makes incredibly useful for handling diverse collections of data.Python doesn’t restrict types inside lists, so you can mix and match however you like."
      ],
      "metadata": {
        "id": "bOUIIBia2FZI"
      }
    },
    {
      "cell_type": "code",
      "source": [
        "# Example of list containing different data types: (Ques-9)\n",
        "\n",
        "my_list = [42, \"Saloni\", 3.14, True, [1, \"Aakanksha\", 3]]\n",
        "print(my_list)\n"
      ],
      "metadata": {
        "colab": {
          "base_uri": "https://localhost:8080/"
        },
        "id": "8xgz3c6fpnWl",
        "outputId": "89204163-4986-4006-87a2-a7822c8f5a67"
      },
      "execution_count": null,
      "outputs": [
        {
          "output_type": "stream",
          "name": "stdout",
          "text": [
            "[42, 'Saloni', 3.14, True, [1, 'Aakanksha', 3]]\n"
          ]
        }
      ]
    },
    {
      "cell_type": "markdown",
      "source": [
        "10. Explain why strings are immutable in Python?\n",
        "    - Immutability means once a string is created, it cannot be changed. So if you try to modify it, Python actually creates a new string.\n",
        "     \n",
        "      1. Memory efficiency -> Python uses a technique called string interning, it stores common strings in same memory only once to save space rather than creating a new copy. If strings were mutable, changing one could unexpectedly affect others.\n",
        "      \n",
        "      2. Hashability -> Strings are hashable, meaning they can be used as keys in hash-based data structures like dictionaries. For hash-based operations to work properly, the keys must not change during their lifetime, and immutability ensures this.\n",
        "      \n",
        "      3. Thread Safety -> Since strings cannot be modified, multiple threads can safely access and use the same string without worrying about conflicts or unintended changes.\n",
        "      \n",
        "      4. Simplified Behavior -> Immutability eliminates complexity in handling strings. Any operation that changes a string (e.g., concatenation, slicing) results in the creation of a new string rather than modifying the original. This makes the behavior predictable and consistent.\n",
        "\n"
      ],
      "metadata": {
        "id": "yHNAjBVJd31Q"
      }
    },
    {
      "cell_type": "markdown",
      "source": [
        "11. What advantages do dictionaries offer over lists for certain tasks?\n",
        "    - Dictionaries have several advantages over lists for certain tasks, especially when it comes to organizing and retrieving data efficiently.\n",
        "    - Here are some key benefits :\n",
        "\n",
        "      1.  Efficient Lookups (Retrieval)->\n",
        "            \n",
        "             Dictionary lookups are very efficient, with average time complexity of O(1) for accessing a value by its key.\n",
        "\n",
        "            In contrast, searching for an element through iterating in a list can take O(n) in the worst case. This becomes increasingly slow as the list grows larger\n",
        "            \n",
        "      2. Key-Value Associations ->\n",
        "      \n",
        "            Dictionaries store data as key-value pairs, allowing you to access values using unique keys. This is more intuitive and faster than searching for an element in a list by index.\n",
        "\n",
        "            Lists store ordered sequences of elements, but they don't inherently associate keys with values instead used indexing method to access the elements.\n",
        "\n",
        "      3. Uniqueness of Keys ->\n",
        "\n",
        "           With unique keys, dictionaries inherently prevent duplicate keys, which can be helpful for data integrity.\n",
        "\n",
        "           Whereas,Lists can contain duplicate elements.\n",
        "           \n",
        "      4. Flexibility and Readability ->\n",
        "\n",
        "          Dictionaries can store various data types as values and use immutable objects (strings, numbers, tuples) as keys. This flexibility makes them suitable for representing complex data structures. The key value pairing also makes the code more readable.  \n",
        "\n",
        "          Lists can also store various data types, but they are primarily designed for ordered sequences.\n",
        "          \n",
        "      5. When are Preferred ->\n",
        "\n",
        "          Dictionaries are used for storing and retrieving data based on unique identifiers where order of sequence dosen't matter.\n",
        "\n",
        "          Lists are used for storing ordered sequences of elements where the order matters.\n",
        "\n",
        "              "
      ],
      "metadata": {
        "id": "Y_Jw8zFEhSNH"
      }
    },
    {
      "cell_type": "markdown",
      "source": [
        "12. Describe a scenario where using a tuple would be preferable over a list.\n",
        "    - Tuples are preferable over lists in scenarios where immutability and performance are key considerations.\n",
        "   \n",
        "    - Here's a cpncrete example : Imagine working with fixed exchange rates between two currencies for a specific day. Since these rates should remain unchanged for historical or reporting purposes, a tuple is ideal because it ensures immutability.\n",
        "\n",
        "    - Here, the tuple stores the currencies and the fixed rate, preventing accidental modifications during calculations or storage. Immutability ensures that the transaction history remains accurate and consistent.\n",
        "\n",
        "    - Using a tuple ensures data consistency that all transaction records have the same format, making it easier to process and analyze the data.\n"
      ],
      "metadata": {
        "id": "R-5cgiuXuf6B"
      }
    },
    {
      "cell_type": "markdown",
      "source": [
        "13. How do sets handle duplicate values in Python?\n",
        "    \n",
        "    - Sets in Python automatically remove duplicate values. While adding an elements to a set, Python ensures that each element is unique.\n",
        "    \n",
        "    - Python sets are implemented using hash tables, which enable very efficient lookups.\n",
        "    \n",
        "    - When attempting to add a duplicate value, it is ignored, and the set remains unchanged. This behavior makes sets ideal for scenarios where you need to store distinct items.\n",
        "\n",
        "    \n"
      ],
      "metadata": {
        "id": "11k63QDix_p7"
      }
    },
    {
      "cell_type": "code",
      "source": [
        "# Example of sets handle duplicate values in python: (Ques-13)\n",
        "my_set = {1, 2, 3, 2, 4}\n",
        "print(my_set)"
      ],
      "metadata": {
        "colab": {
          "base_uri": "https://localhost:8080/"
        },
        "id": "uWhCA-aF3YAZ",
        "outputId": "dbdee199-5442-4238-af50-15dc3e340e1f"
      },
      "execution_count": 8,
      "outputs": [
        {
          "output_type": "stream",
          "name": "stdout",
          "text": [
            "{1, 2, 3, 4}\n"
          ]
        }
      ]
    },
    {
      "cell_type": "code",
      "source": [
        "my_set.add(4)\n",
        "print(my_set)"
      ],
      "metadata": {
        "colab": {
          "base_uri": "https://localhost:8080/"
        },
        "id": "W_uP7pRl3pBG",
        "outputId": "b60176f0-0a2a-4253-86fd-719700bf3a27"
      },
      "execution_count": 10,
      "outputs": [
        {
          "output_type": "stream",
          "name": "stdout",
          "text": [
            "{1, 2, 3, 4}\n"
          ]
        }
      ]
    },
    {
      "cell_type": "markdown",
      "source": [
        "14. How does the “in” keyword work differently for lists and dictionaries?\n",
        "    - The  keyword behaves differently for lists and dictionaries because it checks membership in distinct ways based on the data structure and how they are accessed.\n",
        "\n",
        "      1. For Lists:\n",
        "\n",
        "          - The \"in\"  keyword in python performs a linear serach checks whether a specific value exists in the list. It iterates through each element in the list until a match is found or the end of the list is reached. (Checks in value)\n",
        "\n",
        "          - Therefore, the time complexity of in for lists is O(n), where n is the number of elements in the list. This means that the search time increases linearly with the size of the list.\n",
        "\n",
        "      2. For Dictionaries:\n",
        "\n",
        "          - The \"in\"  keyword checks for the presence of keys, not values. Python checks if a specific key is present in the dictionary's keys.\n",
        "\n",
        "          - Dictionaries are implemented using hash tables, which allow for very efficient lookups. The average time complexity of in for dictionaries is O(1) (constant time), which is much faster than the linear search performed on lists.\n",
        "\n",
        "\n",
        "          "
      ],
      "metadata": {
        "id": "uZnWtxT40P5F"
      }
    },
    {
      "cell_type": "code",
      "source": [
        "# Example for \"in\" keyword for lists: (Ques-14)\n",
        "\n",
        "my_list = [1, 2, 3, 4, 5]\n",
        "print(3 in my_list)\n",
        "print(6 in my_list)"
      ],
      "metadata": {
        "colab": {
          "base_uri": "https://localhost:8080/"
        },
        "id": "vxqdufPl2x6q",
        "outputId": "28c468ff-435d-4ede-b02a-1721f867ffdc"
      },
      "execution_count": 1,
      "outputs": [
        {
          "output_type": "stream",
          "name": "stdout",
          "text": [
            "True\n",
            "False\n"
          ]
        }
      ]
    },
    {
      "cell_type": "code",
      "source": [
        "# # Example for \"in\" keyword for dictionaries: (Ques-14)\n",
        "my_dict = {\"a\": 1, \"b\": 2, \"c\": 3}\n",
        "print(\"a\" in my_dict)\n",
        "print(1 in my_dict)"
      ],
      "metadata": {
        "colab": {
          "base_uri": "https://localhost:8080/"
        },
        "id": "5Pa2VLBf3EUJ",
        "outputId": "0efd730f-f6e6-4f9b-8280-a74a12374885"
      },
      "execution_count": 2,
      "outputs": [
        {
          "output_type": "stream",
          "name": "stdout",
          "text": [
            "True\n",
            "False\n"
          ]
        }
      ]
    },
    {
      "cell_type": "markdown",
      "source": [
        "15. Can you modify the elements of a tuple? Explain why or why not.\n",
        "   \n",
        "    - No, modifying the elements of a tuple in Python is not allowed. This is because tuples are immutable data structures, meaning once a tuple is created, its contents cannot be changed.\n",
        "\n",
        "    - Here's a breakdown of why tuples are immutable:\n",
        "    \n",
        "        1. This immutability as a defining characteristic of tuples and makes them useful for storing data that should remain constant throughout the program's execution. Add, remove, or change opertaions within the tuple is refrained.\n",
        "\n",
        "        2. Because tuples are immutable objects offering performance advantages, they are faster and consume less memory compared to lists. However, if a tuple contains mutable elements like lists or dictionaries, those nested mutable elements can still be modified."
      ],
      "metadata": {
        "id": "oD_-_Z2Y4jiU"
      }
    },
    {
      "cell_type": "code",
      "source": [
        "# Example of tuples: (Ques-15)\n",
        "\n",
        "my_tuple = (1, (2, 3))\n",
        "print(my_tuple)"
      ],
      "metadata": {
        "colab": {
          "base_uri": "https://localhost:8080/"
        },
        "id": "UTasbCJx6pdb",
        "outputId": "ac3cfcd3-3b3c-4d29-82ec-51e8cf1b3865"
      },
      "execution_count": 14,
      "outputs": [
        {
          "output_type": "stream",
          "name": "stdout",
          "text": [
            "(1, (2, 3))\n"
          ]
        }
      ]
    },
    {
      "cell_type": "code",
      "source": [
        "my_tuple[1][0] = 5\n",
        "print(my_tuple)     {Hence, proving tuples values cannot be altered.}"
      ],
      "metadata": {
        "colab": {
          "base_uri": "https://localhost:8080/",
          "height": 165
        },
        "id": "RM88TVUQ65Q3",
        "outputId": "5d498a26-d07f-4f3c-bcb0-e8b20f2d890d"
      },
      "execution_count": 15,
      "outputs": [
        {
          "output_type": "error",
          "ename": "TypeError",
          "evalue": "'tuple' object does not support item assignment",
          "traceback": [
            "\u001b[0;31m---------------------------------------------------------------------------\u001b[0m",
            "\u001b[0;31mTypeError\u001b[0m                                 Traceback (most recent call last)",
            "\u001b[0;32m<ipython-input-15-a688cefacb98>\u001b[0m in \u001b[0;36m<cell line: 0>\u001b[0;34m()\u001b[0m\n\u001b[0;32m----> 1\u001b[0;31m \u001b[0mmy_tuple\u001b[0m\u001b[0;34m[\u001b[0m\u001b[0;36m1\u001b[0m\u001b[0;34m]\u001b[0m\u001b[0;34m[\u001b[0m\u001b[0;36m0\u001b[0m\u001b[0;34m]\u001b[0m \u001b[0;34m=\u001b[0m \u001b[0;36m5\u001b[0m\u001b[0;34m\u001b[0m\u001b[0;34m\u001b[0m\u001b[0m\n\u001b[0m\u001b[1;32m      2\u001b[0m \u001b[0mprint\u001b[0m\u001b[0;34m(\u001b[0m\u001b[0mmy_tuple\u001b[0m\u001b[0;34m)\u001b[0m\u001b[0;34m\u001b[0m\u001b[0;34m\u001b[0m\u001b[0m\n",
            "\u001b[0;31mTypeError\u001b[0m: 'tuple' object does not support item assignment"
          ]
        }
      ]
    },
    {
      "cell_type": "markdown",
      "source": [
        "16. What is a nested dictionary, and give an example of its use case?\n",
        "  \n",
        "    - A nested dictionary is a dictionary within another dictionary. It's a way to organize hierarchical or complex data structures where each key in the outer dictionary maps to another dictionary, enabling multi-level data and representing more complex relationship between data.\n",
        "\n",
        "    - A nested dictionary can have any level of nesting, meaning having dictionaries within dictionaries within dictionaries, and so on."
      ],
      "metadata": {
        "id": "AUuuGuD77Yaw"
      }
    },
    {
      "cell_type": "code",
      "source": [
        "# Example of nested dictionaries:(Ques-16)\n",
        "student_data = {\n",
        "    \"Student_1\": {\n",
        "        \"Name\": \"Saloni\",\n",
        "        \"Grades\": {\"Economics\": 90, \"Accounts\": 85},\n",
        "        \"Attendance\": 95},\n",
        "\n",
        "    \"Student_2\": {\n",
        "        \"Name\": \"Aakanksha\",\n",
        "        \"Grades\": {\"Economics\": 78, \"Accounts\": 88},\n",
        "        \"Attendance\": 88},\n",
        "\n",
        "    \"Student_3\": {\n",
        "        \"Name\": \"Anisha\",\n",
        "        \"Grades\": {\"Economics\": 94, \"Accounts\": 98},\n",
        "        \"Attendance\": 90}\n",
        "}\n",
        "\n",
        "print(student_data[\"Student_1\"][\"Grades\"][\"Economics\"])\n",
        "print(student_data[\"Student_3\"][\"Grades\"][\"Economics\"])"
      ],
      "metadata": {
        "colab": {
          "base_uri": "https://localhost:8080/"
        },
        "id": "yqIhWGae66uH",
        "outputId": "2d7b3000-506a-448c-caf1-b19ac6080b18"
      },
      "execution_count": 19,
      "outputs": [
        {
          "output_type": "stream",
          "name": "stdout",
          "text": [
            "90\n",
            "94\n"
          ]
        }
      ]
    },
    {
      "cell_type": "markdown",
      "source": [
        "17. Describe the time complexity of accessing elements in a dictionary.\n",
        "\n",
        "   - The time complexity of accessing elements in a dictionary in Python is O(1) on average, which is constant time. This efficiency is due to the hashing mechanism used by dictionaries.\n",
        "   \n",
        "   - Here's how it works:\n",
        "\n",
        "      1. Hashing -> When accessing a dictionary element using a key, Python computes the hash of the key. This hash value determines where the key-value pair is stored in the dictionary's internal structure and the value can be retrieved directly.Accessing elements by key is very fast on average.\n",
        "\n",
        "      2. Constant time -> Because hashing allows Python to jump directly to the location of the key in the dictionary,minimizing collisions (multiple keys mapping to the same index). The lookup time is almost always constant  (O(1)), regardless of the dictionary's size.This makes dictionaries highly efficient for lookups, especially in large datasets.\n",
        "\n",
        "  - Worst case scenarios: In rare situations where there are many hash collisions (i.e., different keys producing the same hash value), the time complexity can degrade to O(n), where  is the number of keys in the dictionary.  This happens because the keys are stored in a bucket, and Python has to search through the bucket to find the correct key."
      ],
      "metadata": {
        "id": "XOLeSovS9zbS"
      }
    },
    {
      "cell_type": "markdown",
      "source": [
        "18. In what situations are lists preferred over dictionaries?\n",
        "\n",
        "   - Lists are preferred over dictionaries in situations where order matters or when you need to work with sequential data.\n",
        "   \n",
        "   - Here are some specific cases:\n",
        "\n",
        "      1. Maintaining Order -> Lists preserve the insertion order of elements, making them ideal for scenarios where the order of data is important (e.g., Storing a sequence of events in chronological order, maintaining a playlist of songs, or representing a queue).\n",
        "\n",
        "      2. Index-Based Access -> Lists are designed for efficient sequential access. If needed to access elements by their position (index), lists are the go-to choice since dictionaries use keys for access (eg, Processing a series of data points).\n",
        "\n",
        "      3. Homoogeneous Data -> When dealing with a collection of similar items (e.g., a list of numbers, names, or temperatures), lists are simpler and more appropriate.\n",
        "\n",
        "      4. Memory efficiency -> For small datasets without the need for key-value pairs, lists use less memory and are more lightweight than dictionaries.\n",
        "\n",
        "      5. Simple Append and Modify Operations -> Adding or modifying elements is simpler in lists compared to dictionaries, which require managing keys.\n"
      ],
      "metadata": {
        "id": "fPIX0CRwBmp0"
      }
    },
    {
      "cell_type": "markdown",
      "source": [
        "19. Why are dictionaries considered unordered, and how does that affect data retrieval?\n",
        "\n",
        "   - Dictionaries in Python are considered unordered because they do not maintain a specific sequence for their key-value pairs in memory. This is due to the hashing mechanism used to store and retrieve data efficiently.\n",
        "\n",
        "   - Instead of being stored in a linear fashion, like lists, dictionary items are stored in hash tables based on the hash values of their keys. As a result, the order of items may not correspond to the order in which they were added.\n",
        "\n",
        "   - Effects on Data Retrieval:\n",
        "\n",
        "       1. Access by Key -> The unordered nature of hash tables is what makes dictionaries so efficient for data retrieval.By using a hash function, Python can quickly locate the memory location of a value based on its key, without having to iterate through the entire dictionary.This results in near-constant-time lookups (O(1) on average).\n",
        "\n",
        "       2. No Reliance on Indexing -> Unlike lists, which use numerical indices to access elements, dictionaries use keys. Accessing elements in a dictionary cannot be based on their position or index. Retrieve value only possible through their corresponding keys.\n",
        "\n",
        "       3. Iterating Over Items -> Starting from Python 3.7, dictionaries maintain insertion order as a language guarantee. However, this does not change how individual elements are accessed; it simply allows predictable iteration.The insertion order is a side effect of the implementation, not a fundamental property of the dictionary's data."
      ],
      "metadata": {
        "id": "_sqEzm7mfwco"
      }
    },
    {
      "cell_type": "markdown",
      "source": [
        "20. Explain the difference between a list and a dictionary in terms of data retrieval.\n",
        "\n",
        "      - The key difference between a list and a dictionary in terms of data retrieval lies in how elements are stored and accessed:\n",
        "\n",
        "         1. Data storage:\n",
        "              \n",
        "              - Lists store elements in a sequential, ordered manner, indexed by numerical positions (0, 1, 2,).\n",
        "             \n",
        "              - Dictionaries store data as key-value pairs.Keys are used to access the corresponding values\n",
        "\n",
        "         2. Data retrieval:\n",
        "             \n",
        "              - Elements are accessed using their numerical index.To find a specific element (without knowing its index), you typically have to iterate through the list, checking each element until you find the desired one. This is a linear search.\n",
        "\n",
        "              - The hash table allows Python to quickly locate the value based on the key, without needing to iterate through the entire dictionary.\n",
        "              \n",
        "        3. Time complexity:\n",
        "\n",
        "             - Data retrieval in a list has a time complexity of O(n) in the worst case (where n is the number of elements), because you might have to check every element. However, accessing an element by its index is O(1)\n",
        "\n",
        "             -  Data retrieval in a dictionary has an average time complexity of O(1) (constant time). This means that retrieving a value takes approximately the same amount of time regardless of the dictionary's size.\n",
        "        \n",
        "        4. Use cases:\n",
        "\n",
        "             - Lists are suitable for ordered collections of data where the position of elements is important.\n",
        "\n",
        "             - Dictionary is ideal for storing and retrieving data based on unique identifiers (keys).\n",
        "\n",
        "\n",
        "\n",
        "\n"
      ],
      "metadata": {
        "id": "z-Rv6vOfjnFT"
      }
    },
    {
      "cell_type": "markdown",
      "source": [
        "## Practical part"
      ],
      "metadata": {
        "id": "oRRorOBzmL4e"
      }
    },
    {
      "cell_type": "code",
      "source": [
        "#1. Write a code to create a string with your name and print it\n",
        "\n",
        "\n",
        "student_name = \"Saloni Tamang\"\n",
        "print(student_name)"
      ],
      "metadata": {
        "colab": {
          "base_uri": "https://localhost:8080/"
        },
        "id": "ejZdwwuimPYz",
        "outputId": "4b66007f-1583-40b5-d58d-872b835f90dd"
      },
      "execution_count": 1,
      "outputs": [
        {
          "output_type": "stream",
          "name": "stdout",
          "text": [
            "Saloni Tamang\n"
          ]
        }
      ]
    },
    {
      "cell_type": "code",
      "source": [
        "#2. Write a code to find the length of the string \"Hello World\"\n",
        "\n",
        "word = \"Hello World\"\n",
        "print(len(word))\n",
        "\n",
        "#[11 because of the space give between the words Hello and World]"
      ],
      "metadata": {
        "colab": {
          "base_uri": "https://localhost:8080/"
        },
        "id": "755qnpIUn-hC",
        "outputId": "a2837544-0da5-4f5e-dd7b-09729798afdb"
      },
      "execution_count": 2,
      "outputs": [
        {
          "output_type": "stream",
          "name": "stdout",
          "text": [
            "11\n"
          ]
        }
      ]
    },
    {
      "cell_type": "code",
      "source": [
        "#3. Write a code to slice the first 3 characters from the string \"Python Programming\"\n",
        "\n",
        "\n",
        "word = \"Python Programming\"\n",
        "word_slicing = word[:3]\n",
        "print(word_slicing)"
      ],
      "metadata": {
        "colab": {
          "base_uri": "https://localhost:8080/"
        },
        "id": "FcHEA8VRofTv",
        "outputId": "ec72e8c2-f88f-4767-ea8f-c8129e1c3979"
      },
      "execution_count": 4,
      "outputs": [
        {
          "output_type": "stream",
          "name": "stdout",
          "text": [
            "Pyt\n"
          ]
        }
      ]
    },
    {
      "cell_type": "code",
      "source": [
        "#4. Write a code to convert the string \"hello\" to uppercase\n",
        "\n",
        "word = \"hello\"\n",
        "print(word.upper())"
      ],
      "metadata": {
        "colab": {
          "base_uri": "https://localhost:8080/"
        },
        "id": "j3isHDuppic6",
        "outputId": "f95fd54d-e4af-4e34-9455-134dc28f014f"
      },
      "execution_count": 5,
      "outputs": [
        {
          "output_type": "stream",
          "name": "stdout",
          "text": [
            "HELLO\n"
          ]
        }
      ]
    },
    {
      "cell_type": "code",
      "source": [
        "#5. Write a code to replace the word \"apple\" with \"orange\" in the string \"I like apple\"\n",
        "\n",
        "string = \"I like apple\"\n",
        "new_string = string.replace(\"apple\", \"orange\")\n",
        "print(new_string)"
      ],
      "metadata": {
        "colab": {
          "base_uri": "https://localhost:8080/"
        },
        "id": "zARjS1fzpuCz",
        "outputId": "d432b4ca-c689-4d6d-ea15-ba8c38e3eea9"
      },
      "execution_count": 6,
      "outputs": [
        {
          "output_type": "stream",
          "name": "stdout",
          "text": [
            "I like orange\n"
          ]
        }
      ]
    },
    {
      "cell_type": "code",
      "source": [
        "#6. Write a code to create a list with numbers 1 to 5 and print it\n",
        "\n",
        "my_list = [1, 2, 3, 4, 5]\n",
        "print(my_list)"
      ],
      "metadata": {
        "colab": {
          "base_uri": "https://localhost:8080/"
        },
        "id": "R5Oa8_gTqOI8",
        "outputId": "9ddb8252-4ee8-455c-d5dd-d8b90610f650"
      },
      "execution_count": 7,
      "outputs": [
        {
          "output_type": "stream",
          "name": "stdout",
          "text": [
            "[1, 2, 3, 4, 5]\n"
          ]
        }
      ]
    },
    {
      "cell_type": "code",
      "source": [
        "#7. Write a code to append the number 10 to the list [1, 2, 3, 4]\n",
        "\n",
        "my_list = [1, 2, 3, 4]\n",
        "my_list.append(10)\n",
        "print(my_list)\n",
        "\n"
      ],
      "metadata": {
        "colab": {
          "base_uri": "https://localhost:8080/"
        },
        "id": "6yNz2tUZqUJr",
        "outputId": "813d69db-8a29-4398-ed1e-d9b3f45561a3"
      },
      "execution_count": 8,
      "outputs": [
        {
          "output_type": "stream",
          "name": "stdout",
          "text": [
            "[1, 2, 3, 4, 10]\n"
          ]
        }
      ]
    },
    {
      "cell_type": "code",
      "source": [
        "#8. Write a code to remove the number 3 from the list [1, 2, 3, 4, 5]\n",
        "\n",
        "my_list = [1, 2, 3, 4, 5]\n",
        "my_list.remove(3)\n",
        "print(my_list)"
      ],
      "metadata": {
        "colab": {
          "base_uri": "https://localhost:8080/"
        },
        "id": "c3cbFitAqi-d",
        "outputId": "54b2db82-3dc0-4e26-88c5-f1ca5f89a425"
      },
      "execution_count": 9,
      "outputs": [
        {
          "output_type": "stream",
          "name": "stdout",
          "text": [
            "[1, 2, 4, 5]\n"
          ]
        }
      ]
    },
    {
      "cell_type": "code",
      "source": [
        "#9. Write a code to access the second element in the list ['a', 'b', 'c', 'd']\n",
        "\n",
        "my_list = ['a', 'b', 'c', 'd']\n",
        "print(my_list[1])"
      ],
      "metadata": {
        "colab": {
          "base_uri": "https://localhost:8080/"
        },
        "id": "PhVoMGdIqxLX",
        "outputId": "d56dfa2a-d7f6-47cc-ab42-eca5a9c3dc6e"
      },
      "execution_count": 10,
      "outputs": [
        {
          "output_type": "stream",
          "name": "stdout",
          "text": [
            "b\n"
          ]
        }
      ]
    },
    {
      "cell_type": "code",
      "source": [
        "#10. Write a code to reverse the list [10, 20, 30, 40, 50].\n",
        "\n",
        "my_list = [10, 20, 30, 40, 50]\n",
        "my_list.reverse()\n",
        "print(my_list)\n"
      ],
      "metadata": {
        "colab": {
          "base_uri": "https://localhost:8080/"
        },
        "id": "_ELbZoc3q5mW",
        "outputId": "7c02506e-fe43-4bc9-e54a-ae12d31c2f4f"
      },
      "execution_count": 11,
      "outputs": [
        {
          "output_type": "stream",
          "name": "stdout",
          "text": [
            "[50, 40, 30, 20, 10]\n"
          ]
        }
      ]
    },
    {
      "cell_type": "code",
      "source": [
        "#11. Write a code to create a tuple with the elements 100, 200, 300 and print it.\n",
        "\n",
        "my_tuple = (100, 200, 300)\n",
        "print(my_tuple)"
      ],
      "metadata": {
        "colab": {
          "base_uri": "https://localhost:8080/"
        },
        "id": "QsZFjeIfrDMb",
        "outputId": "6a2e2f8a-a32d-4753-c69a-a712c8febbeb"
      },
      "execution_count": 12,
      "outputs": [
        {
          "output_type": "stream",
          "name": "stdout",
          "text": [
            "(100, 200, 300)\n"
          ]
        }
      ]
    },
    {
      "cell_type": "code",
      "source": [
        "#12. Write a code to access the second-to-last element of the tuple ('red', 'green', 'blue', 'yellow').\n",
        "\n",
        "my_tuple = ('red', 'green', 'blue', 'yellow')\n",
        "print(my_tuple[1:])"
      ],
      "metadata": {
        "colab": {
          "base_uri": "https://localhost:8080/"
        },
        "id": "TpOAYg4QrMcB",
        "outputId": "bbb9a01a-a621-42ed-e742-79dc5e790209"
      },
      "execution_count": 16,
      "outputs": [
        {
          "output_type": "stream",
          "name": "stdout",
          "text": [
            "('green', 'blue', 'yellow')\n"
          ]
        }
      ]
    },
    {
      "cell_type": "code",
      "source": [
        "#13. Write a code to find the minimum number in the tuple (10, 20, 5, 15)\n",
        "\n",
        "my_tuple = (10, 20, 5, 15)\n",
        "print(min(my_tuple))"
      ],
      "metadata": {
        "colab": {
          "base_uri": "https://localhost:8080/"
        },
        "id": "rYBEm_Hlrh4j",
        "outputId": "ea037f3b-52c0-4eb8-8e45-b242fdf29a9c"
      },
      "execution_count": 15,
      "outputs": [
        {
          "output_type": "stream",
          "name": "stdout",
          "text": [
            "5\n"
          ]
        }
      ]
    },
    {
      "cell_type": "code",
      "source": [
        "#14. Write a code to find the index of the element \"cat\" in the tuple ('dog', 'cat', 'rabbit').\n",
        "\n",
        "my_tuple = ('dog', 'cat', 'rabbit')\n",
        "cat_index = my_tuple.index('cat')\n",
        "print(cat_index)"
      ],
      "metadata": {
        "colab": {
          "base_uri": "https://localhost:8080/"
        },
        "id": "nRmX7St9rtjj",
        "outputId": "b4e042ee-64f0-4f28-d874-07f8d4b40f1c"
      },
      "execution_count": 17,
      "outputs": [
        {
          "output_type": "stream",
          "name": "stdout",
          "text": [
            "1\n"
          ]
        }
      ]
    },
    {
      "cell_type": "code",
      "source": [
        "#15. Write a code to create a tuple containing three different fruits and check if \"kiwi\" is in it.\n",
        "\n",
        "\n",
        "\n",
        "fruits_names = ('apple', 'banana', 'cherry')\n",
        "kiwi_present = 'kiwi' in fruits_names\n",
        "print(kiwi_present)"
      ],
      "metadata": {
        "colab": {
          "base_uri": "https://localhost:8080/"
        },
        "id": "uCi8UQ1usNdb",
        "outputId": "dc35787c-a08b-4c61-de70-7301cd2fb5c9"
      },
      "execution_count": 19,
      "outputs": [
        {
          "output_type": "stream",
          "name": "stdout",
          "text": [
            "False\n"
          ]
        }
      ]
    },
    {
      "cell_type": "code",
      "source": [
        "#16. Write a code to create a set with the elements 'a', 'b', 'c' and print it.\n",
        "\n",
        "my_set = {'a', 'b', 'c'}\n",
        "print(my_set)"
      ],
      "metadata": {
        "colab": {
          "base_uri": "https://localhost:8080/"
        },
        "id": "E-jsr6dUs1Q8",
        "outputId": "69f8fac0-4575-47e4-a6cb-674461f245d6"
      },
      "execution_count": 20,
      "outputs": [
        {
          "output_type": "stream",
          "name": "stdout",
          "text": [
            "{'c', 'b', 'a'}\n"
          ]
        }
      ]
    },
    {
      "cell_type": "code",
      "source": [
        "#17. Write a code to clear all elements from the set {1, 2, 3, 4, 5}.\n",
        "\n",
        "my_set = {1, 2, 3, 4, 5}\n",
        "my_set.clear()\n",
        "print(my_set)"
      ],
      "metadata": {
        "colab": {
          "base_uri": "https://localhost:8080/"
        },
        "id": "DxnckqBaxtHl",
        "outputId": "25cbb0ee-e32c-414d-9fa5-72667da02940"
      },
      "execution_count": 21,
      "outputs": [
        {
          "output_type": "stream",
          "name": "stdout",
          "text": [
            "set()\n"
          ]
        }
      ]
    },
    {
      "cell_type": "code",
      "source": [
        "#18. Write a code to remove the element 4 from the set {1, 2, 3, 4}\n",
        "\n",
        "my_set = {1, 2, 3, 4}\n",
        "my_set.remove(4)\n",
        "print(my_set)"
      ],
      "metadata": {
        "colab": {
          "base_uri": "https://localhost:8080/"
        },
        "id": "CZ8EVxMMx4Fx",
        "outputId": "556cfa21-1d7b-453b-c8af-09e51c4addb3"
      },
      "execution_count": 22,
      "outputs": [
        {
          "output_type": "stream",
          "name": "stdout",
          "text": [
            "{1, 2, 3}\n"
          ]
        }
      ]
    },
    {
      "cell_type": "code",
      "source": [
        "#19. Write a code to find the union of two sets {1, 2, 3} and {3, 4, 5}.\n",
        "\n",
        "set1 = {1, 2, 3}\n",
        "set2 = {3, 4, 5}\n",
        "union_set = set1.union(set2)\n",
        "print(union_set)"
      ],
      "metadata": {
        "colab": {
          "base_uri": "https://localhost:8080/"
        },
        "id": "bU8x-h89yLSh",
        "outputId": "4d9ef0b6-2126-49d5-c5ad-680c0080f43d"
      },
      "execution_count": 23,
      "outputs": [
        {
          "output_type": "stream",
          "name": "stdout",
          "text": [
            "{1, 2, 3, 4, 5}\n"
          ]
        }
      ]
    },
    {
      "cell_type": "code",
      "source": [
        "#20. Write a code to find the intersection of two sets {1, 2, 3} and {2, 3, 4}.\n",
        "\n",
        "set1 = {1, 2, 3}\n",
        "set2 = {2, 3, 4}\n",
        "intersection_set = set1.intersection(set2)\n",
        "print(intersection_set)"
      ],
      "metadata": {
        "colab": {
          "base_uri": "https://localhost:8080/"
        },
        "id": "mjq7VPeXyZm3",
        "outputId": "d5c9af77-cf92-4738-efa5-dddf5ff2e721"
      },
      "execution_count": 24,
      "outputs": [
        {
          "output_type": "stream",
          "name": "stdout",
          "text": [
            "{2, 3}\n"
          ]
        }
      ]
    },
    {
      "cell_type": "code",
      "source": [
        "#21. Write a code to create a dictionary with the keys \"name\", \"age\", and \"city\", and print it.\n",
        "\n",
        "my_dict = {\n",
        "    \"name\": \"Saloni\",\n",
        "    \"age\": 24,\n",
        "    \"city\": \"Jalandhar\"}\n",
        "print(my_dict)"
      ],
      "metadata": {
        "colab": {
          "base_uri": "https://localhost:8080/"
        },
        "id": "rkyfUFpqyjS7",
        "outputId": "8a1bb490-ebd4-42fd-e1ea-e162629d26d0"
      },
      "execution_count": 25,
      "outputs": [
        {
          "output_type": "stream",
          "name": "stdout",
          "text": [
            "{'name': 'Saloni', 'age': 24, 'city': 'Jalandhar'}\n"
          ]
        }
      ]
    },
    {
      "cell_type": "code",
      "source": [
        "#22. Write a code to add a new key-value pair \"country\": \"USA\" to the dictionary {'name': 'John', 'age': 25}\n",
        "\n",
        "my_dict = {'name': 'John', 'age': 25}\n",
        "my_dict['country'] = 'USA'\n",
        "print(my_dict)"
      ],
      "metadata": {
        "colab": {
          "base_uri": "https://localhost:8080/"
        },
        "id": "6_qyBl_Yy97m",
        "outputId": "3009f30b-1db2-4ef8-bbd5-4739e9ab8c18"
      },
      "execution_count": 26,
      "outputs": [
        {
          "output_type": "stream",
          "name": "stdout",
          "text": [
            "{'name': 'John', 'age': 25, 'country': 'USA'}\n"
          ]
        }
      ]
    },
    {
      "cell_type": "code",
      "source": [
        "#23. Write a code to access the value associated with the key \"name\" in the dictionary {'name': 'Alice', 'age': 30}\n",
        "\n",
        "my_dict = {'name': 'Alice', 'age': 30}\n",
        "print(my_dict['name'])"
      ],
      "metadata": {
        "colab": {
          "base_uri": "https://localhost:8080/"
        },
        "id": "TKBBJwIDzM3a",
        "outputId": "0eb4fa97-8492-4419-89ba-f29c8e96c21a"
      },
      "execution_count": 27,
      "outputs": [
        {
          "output_type": "stream",
          "name": "stdout",
          "text": [
            "Alice\n"
          ]
        }
      ]
    },
    {
      "cell_type": "code",
      "source": [
        "#24. Write a code to remove the key \"age\" from the dictionary {'name': 'Bob', 'age': 22, 'city': 'New York'}\n",
        "\n",
        "my_dict = {'name': 'Bob', 'age': 22, 'city': 'New York'}\n",
        "del my_dict['age']\n",
        "print(my_dict)"
      ],
      "metadata": {
        "colab": {
          "base_uri": "https://localhost:8080/"
        },
        "id": "ozu5fivRzVzD",
        "outputId": "fcb32ca0-c7d2-4971-f0c3-86495ff6ad0b"
      },
      "execution_count": 28,
      "outputs": [
        {
          "output_type": "stream",
          "name": "stdout",
          "text": [
            "{'name': 'Bob', 'city': 'New York'}\n"
          ]
        }
      ]
    },
    {
      "cell_type": "code",
      "source": [
        "#25. Write a code to check if the key \"city\" exists in the dictionary {'name': 'Alice', 'city': 'Paris'}.\n",
        "\n",
        "my_dict = {'name': 'Alice', 'city': 'Paris'}\n",
        "city_exists = 'city' in my_dict\n",
        "print(city_exists)"
      ],
      "metadata": {
        "colab": {
          "base_uri": "https://localhost:8080/"
        },
        "id": "Faxirfc1zgkP",
        "outputId": "d9fbf1bd-c3db-4f18-f189-196973d346a2"
      },
      "execution_count": 29,
      "outputs": [
        {
          "output_type": "stream",
          "name": "stdout",
          "text": [
            "True\n"
          ]
        }
      ]
    },
    {
      "cell_type": "code",
      "source": [
        "#26. Write a code to create a list, a tuple, and a dictionary, and print them all.\n",
        "\n",
        "my_list = [100, \"Anisha\", 433, \"Manish\", 565]\n",
        "my_tuple = (11, \"Saloni\", \"Akansha\", 4, 5)\n",
        "my_dict = {'name': \"Pratham\", 'age': 15, 'class': 12}\n",
        "\n",
        "print(my_list)\n",
        "print(my_tuple)\n",
        "print(my_dict)\n",
        "\n"
      ],
      "metadata": {
        "colab": {
          "base_uri": "https://localhost:8080/"
        },
        "id": "dV_Ln54RztC8",
        "outputId": "edd5b3fc-4fe4-4ec2-9e8a-bf0d055b2f1d"
      },
      "execution_count": 30,
      "outputs": [
        {
          "output_type": "stream",
          "name": "stdout",
          "text": [
            "[100, 'Anisha', 433, 'Manish', 565]\n",
            "(11, 'Saloni', 'Akansha', 4, 5)\n",
            "{'name': 'Pratham', 'age': 15, 'class': 12}\n"
          ]
        }
      ]
    },
    {
      "cell_type": "code",
      "source": [
        "#27.  Write a code to create a list of 5 random numbers between 1 and 100, sort it in ascending order, and print the\n",
        "# result.(replaced)\n",
        "\n",
        "my_lists = [55, 4, 73, 65, 99]\n",
        "sorted_lists = sorted(my_lists)\n",
        "print(sorted_lists)\n"
      ],
      "metadata": {
        "colab": {
          "base_uri": "https://localhost:8080/"
        },
        "id": "O5XwMLnn0Q7l",
        "outputId": "847723c1-d33b-4c40-905d-7bff646a040b"
      },
      "execution_count": 34,
      "outputs": [
        {
          "output_type": "stream",
          "name": "stdout",
          "text": [
            "[4, 55, 65, 73, 99]\n"
          ]
        }
      ]
    },
    {
      "cell_type": "code",
      "source": [
        "#28. Write a code to create a list with strings and print the element at the third index.\n",
        "\n",
        "my_fruit_list = [\"apple\", \"banana\", \"cherry\", \"date\", \"elderberry\"]\n",
        "print(my_fruit_list[2])"
      ],
      "metadata": {
        "colab": {
          "base_uri": "https://localhost:8080/"
        },
        "id": "vMJnacPs1jCY",
        "outputId": "f45f63ee-7a87-4f9f-9cd8-f99d5e006828"
      },
      "execution_count": 35,
      "outputs": [
        {
          "output_type": "stream",
          "name": "stdout",
          "text": [
            "cherry\n"
          ]
        }
      ]
    },
    {
      "cell_type": "code",
      "source": [
        "#29. Write a code to combine two dictionaries into one and print the result\n",
        "\n",
        "dict1 = {'name' : 'Saloni', 'last name': 'Tamang'}\n",
        "dict2 = {'sex': 'Female', 'Father name': 'Ashok Kumar Tamang'}\n",
        "combined_dict = {**dict1, **dict2}\n",
        "print(combined_dict)"
      ],
      "metadata": {
        "colab": {
          "base_uri": "https://localhost:8080/"
        },
        "id": "-WTEX_c11ztb",
        "outputId": "aa4f43f0-e962-49cb-8eea-e8f791554e61"
      },
      "execution_count": 37,
      "outputs": [
        {
          "output_type": "stream",
          "name": "stdout",
          "text": [
            "{'name': 'Saloni', 'last name': 'Tamang', 'sex': 'Female', 'Father name': 'Ashok Kumar Tamang'}\n"
          ]
        }
      ]
    },
    {
      "cell_type": "code",
      "source": [
        "#30. Write a code to convert a list of strings into a set\n",
        "\n",
        "my_list = [\"apple\", \"banana\", \"cherry\", \"date\", \"elderberry\"]\n",
        "my_set = set(my_list)\n",
        "print(my_set)"
      ],
      "metadata": {
        "colab": {
          "base_uri": "https://localhost:8080/"
        },
        "id": "ee_3CWvY221z",
        "outputId": "b0947ef2-654e-4f2c-d9d4-eed3e5292e94"
      },
      "execution_count": 38,
      "outputs": [
        {
          "output_type": "stream",
          "name": "stdout",
          "text": [
            "{'date', 'banana', 'elderberry', 'cherry', 'apple'}\n"
          ]
        }
      ]
    }
  ]
}